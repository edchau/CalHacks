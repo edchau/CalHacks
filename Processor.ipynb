{
 "cells": [
  {
   "cell_type": "code",
   "execution_count": 1,
   "metadata": {},
   "outputs": [
    {
     "data": {
      "text/html": [
       "<script type=\"text/javascript\">window.PlotlyConfig = {MathJaxConfig: 'local'};</script><script type=\"text/javascript\">if (window.MathJax) {MathJax.Hub.Config({SVG: {font: \"STIX-Web\"}});}</script><script>requirejs.config({paths: { 'plotly': ['https://cdn.plot.ly/plotly-latest.min']},});if(!window._Plotly) {require(['plotly'],function(plotly) {window._Plotly=plotly;});}</script>"
      ],
      "text/vnd.plotly.v1+html": [
       "<script type=\"text/javascript\">window.PlotlyConfig = {MathJaxConfig: 'local'};</script><script type=\"text/javascript\">if (window.MathJax) {MathJax.Hub.Config({SVG: {font: \"STIX-Web\"}});}</script><script>requirejs.config({paths: { 'plotly': ['https://cdn.plot.ly/plotly-latest.min']},});if(!window._Plotly) {require(['plotly'],function(plotly) {window._Plotly=plotly;});}</script>"
      ]
     },
     "metadata": {},
     "output_type": "display_data"
    }
   ],
   "source": [
    "import json\n",
    "from watson_developer_cloud import ToneAnalyzerV3\n",
    "import numpy as np\n",
    "import pandas as pd\n",
    "import seaborn as sns\n",
    "# import plotly.plotly as py\n",
    "from plotly.offline import download_plotlyjs, init_notebook_mode, plot, iplot\n",
    "import plotly.graph_objs as go\n",
    "import matplotlib.pyplot as plt\n",
    "%matplotlib inline\n",
    "init_notebook_mode(connected=True)"
   ]
  },
  {
   "cell_type": "code",
   "execution_count": 2,
   "metadata": {
    "collapsed": true
   },
   "outputs": [],
   "source": [
    "tone_analyzer = ToneAnalyzerV3(\n",
    "    version='2017-09-21',\n",
    "    iam_apikey='X7XH0fw_2PNm--VtKGH2LVYWdiiqKvF9Rk54G2w-aohB',\n",
    "    url='https://gateway.watsonplatform.net/tone-analyzer/api'\n",
    ")\n"
   ]
  },
  {
   "cell_type": "code",
   "execution_count": 3,
   "metadata": {
    "collapsed": true
   },
   "outputs": [],
   "source": [
    "tone_analyzer = ToneAnalyzerV3(\n",
    "    version = '2017-09-21',\n",
    "    iam_apikey='jPlglAPDQPOICl423ZFhOwylugr4Avv0tUuxw44xqNqD',\n",
    "    url='https://gateway.watsonplatform.net/tone-analyzer/api'\n",
    ")"
   ]
  },
  {
   "cell_type": "code",
   "execution_count": 4,
   "metadata": {
    "collapsed": true
   },
   "outputs": [],
   "source": [
    "tone_analyzer.set_default_headers({'x-watson-learning-opt-out': \"true\"})"
   ]
  },
  {
   "cell_type": "code",
   "execution_count": 5,
   "metadata": {},
   "outputs": [
    {
     "name": "stdout",
     "output_type": "stream",
     "text": [
      "{\n",
      "  \"document_tone\": {\n",
      "    \"tones\": [\n",
      "      {\n",
      "        \"score\": 0.6165,\n",
      "        \"tone_id\": \"sadness\",\n",
      "        \"tone_name\": \"Sadness\"\n",
      "      },\n",
      "      {\n",
      "        \"score\": 0.829888,\n",
      "        \"tone_id\": \"analytical\",\n",
      "        \"tone_name\": \"Analytical\"\n",
      "      }\n",
      "    ]\n",
      "  },\n",
      "  \"sentences_tone\": [\n",
      "    {\n",
      "      \"sentence_id\": 0,\n",
      "      \"text\": \"Team, I know that times are tough!\",\n",
      "      \"tones\": [\n",
      "        {\n",
      "          \"score\": 0.801827,\n",
      "          \"tone_id\": \"analytical\",\n",
      "          \"tone_name\": \"Analytical\"\n",
      "        }\n",
      "      ]\n",
      "    },\n",
      "    {\n",
      "      \"sentence_id\": 1,\n",
      "      \"text\": \"Product sales have been disappointing for the past three quarters.\",\n",
      "      \"tones\": [\n",
      "        {\n",
      "          \"score\": 0.771241,\n",
      "          \"tone_id\": \"sadness\",\n",
      "          \"tone_name\": \"Sadness\"\n",
      "        },\n",
      "        {\n",
      "          \"score\": 0.687768,\n",
      "          \"tone_id\": \"analytical\",\n",
      "          \"tone_name\": \"Analytical\"\n",
      "        }\n",
      "      ]\n",
      "    },\n",
      "    {\n",
      "      \"sentence_id\": 2,\n",
      "      \"text\": \"We have a competitive product, but we need to do a better job of selling it!\",\n",
      "      \"tones\": [\n",
      "        {\n",
      "          \"score\": 0.506763,\n",
      "          \"tone_id\": \"analytical\",\n",
      "          \"tone_name\": \"Analytical\"\n",
      "        }\n",
      "      ]\n",
      "    }\n",
      "  ]\n",
      "}\n"
     ]
    }
   ],
   "source": [
    "text = 'Team, I know that times are tough! Product '\\\n",
    "    'sales have been disappointing for the past three '\\\n",
    "    'quarters. We have a competitive product, but we '\\\n",
    "    'need to do a better job of selling it!'\n",
    "\n",
    "tone_analysis = tone_analyzer.tone(\n",
    "    {'text': text},\n",
    "    'application/json'\n",
    ").get_result()\n",
    "print(json.dumps(tone_analysis, indent=2))"
   ]
  },
  {
   "cell_type": "code",
   "execution_count": 6,
   "metadata": {},
   "outputs": [
    {
     "name": "stdout",
     "output_type": "stream",
     "text": [
      "{\n",
      "  \"document_tone\": {\n",
      "    \"tones\": []\n",
      "  },\n",
      "  \"sentences_tone\": [\n",
      "    {\n",
      "      \"sentence_id\": 0,\n",
      "      \"text\": \"Wow Jeremy, you're so beautiful.\",\n",
      "      \"tones\": [\n",
      "        {\n",
      "          \"score\": 0.854215,\n",
      "          \"tone_id\": \"joy\",\n",
      "          \"tone_name\": \"Joy\"\n",
      "        }\n",
      "      ]\n",
      "    },\n",
      "    {\n",
      "      \"sentence_id\": 1,\n",
      "      \"text\": \"Oh you're so egotistic huh?\",\n",
      "      \"tones\": []\n",
      "    },\n",
      "    {\n",
      "      \"sentence_id\": 2,\n",
      "      \"text\": \"Esketit bois!!!!!!!\",\n",
      "      \"tones\": [\n",
      "        {\n",
      "          \"score\": 0.564467,\n",
      "          \"tone_id\": \"joy\",\n",
      "          \"tone_name\": \"Joy\"\n",
      "        }\n",
      "      ]\n",
      "    },\n",
      "    {\n",
      "      \"sentence_id\": 3,\n",
      "      \"text\": \"I wanna die, everything hurts.\",\n",
      "      \"tones\": [\n",
      "        {\n",
      "          \"score\": 0.847245,\n",
      "          \"tone_id\": \"sadness\",\n",
      "          \"tone_name\": \"Sadness\"\n",
      "        }\n",
      "      ]\n",
      "    },\n",
      "    {\n",
      "      \"sentence_id\": 4,\n",
      "      \"text\": \"Vegetables are so disgusting.\",\n",
      "      \"tones\": []\n",
      "    }\n",
      "  ]\n",
      "}\n"
     ]
    }
   ],
   "source": [
    "text1 = \"\"\"\n",
    "Wow Jeremy, you're so beautiful. Oh you're so egotistic huh? Esketit bois!!!!!!! I wanna die, everything hurts. Vegetables are so disgusting.\n",
    "\"\"\"\n",
    "\n",
    "tone_analysis1 = tone_analyzer.tone(\n",
    "    {'text': text1},\n",
    "    'application/json'\n",
    ").get_result()\n",
    "print(json.dumps(tone_analysis1, indent=2))"
   ]
  },
  {
   "cell_type": "code",
   "execution_count": 7,
   "metadata": {
    "collapsed": true
   },
   "outputs": [],
   "source": [
    "def split_rows(response):\n",
    "    for sentence in response['sentences_tone']:\n",
    "        tones = sentence['tones']\n",
    "        if tones:\n",
    "            for tone in tones:\n",
    "                yield {'sentence_id': sentence['sentence_id'],\n",
    "                      'tone_id': tone['tone_id'],\n",
    "                       'score': tone['score']}\n",
    "        else:\n",
    "            yield {'sentence_id': sentence['sentence_id'],\n",
    "                      'tone_id': 'neutral',\n",
    "                       'score': 1}\n",
    "        "
   ]
  },
  {
   "cell_type": "code",
   "execution_count": 8,
   "metadata": {},
   "outputs": [
    {
     "data": {
      "text/plain": [
       "[{'score': 0.801827, 'sentence_id': 0, 'tone_id': 'analytical'},\n",
       " {'score': 0.771241, 'sentence_id': 1, 'tone_id': 'sadness'},\n",
       " {'score': 0.687768, 'sentence_id': 1, 'tone_id': 'analytical'},\n",
       " {'score': 0.506763, 'sentence_id': 2, 'tone_id': 'analytical'}]"
      ]
     },
     "execution_count": 8,
     "metadata": {},
     "output_type": "execute_result"
    }
   ],
   "source": [
    "list(split_rows(tone_analysis))"
   ]
  },
  {
   "cell_type": "code",
   "execution_count": 9,
   "metadata": {
    "collapsed": true
   },
   "outputs": [],
   "source": [
    "def response_to_df(response):\n",
    "    return pd.DataFrame(split_rows(response))[['sentence_id', 'tone_id', 'score']]"
   ]
  },
  {
   "cell_type": "code",
   "execution_count": 10,
   "metadata": {},
   "outputs": [],
   "source": [
    "df = response_to_df(tone_analysis)"
   ]
  },
  {
   "cell_type": "code",
   "execution_count": 11,
   "metadata": {},
   "outputs": [
    {
     "data": {
      "text/html": [
       "<div>\n",
       "<style>\n",
       "    .dataframe thead tr:only-child th {\n",
       "        text-align: right;\n",
       "    }\n",
       "\n",
       "    .dataframe thead th {\n",
       "        text-align: left;\n",
       "    }\n",
       "\n",
       "    .dataframe tbody tr th {\n",
       "        vertical-align: top;\n",
       "    }\n",
       "</style>\n",
       "<table border=\"1\" class=\"dataframe\">\n",
       "  <thead>\n",
       "    <tr style=\"text-align: right;\">\n",
       "      <th></th>\n",
       "      <th>sentence_id</th>\n",
       "      <th>tone_id</th>\n",
       "      <th>score</th>\n",
       "    </tr>\n",
       "  </thead>\n",
       "  <tbody>\n",
       "    <tr>\n",
       "      <th>0</th>\n",
       "      <td>0</td>\n",
       "      <td>analytical</td>\n",
       "      <td>0.801827</td>\n",
       "    </tr>\n",
       "    <tr>\n",
       "      <th>1</th>\n",
       "      <td>1</td>\n",
       "      <td>sadness</td>\n",
       "      <td>0.771241</td>\n",
       "    </tr>\n",
       "    <tr>\n",
       "      <th>2</th>\n",
       "      <td>1</td>\n",
       "      <td>analytical</td>\n",
       "      <td>0.687768</td>\n",
       "    </tr>\n",
       "    <tr>\n",
       "      <th>3</th>\n",
       "      <td>2</td>\n",
       "      <td>analytical</td>\n",
       "      <td>0.506763</td>\n",
       "    </tr>\n",
       "  </tbody>\n",
       "</table>\n",
       "</div>"
      ],
      "text/plain": [
       "   sentence_id     tone_id     score\n",
       "0            0  analytical  0.801827\n",
       "1            1     sadness  0.771241\n",
       "2            1  analytical  0.687768\n",
       "3            2  analytical  0.506763"
      ]
     },
     "execution_count": 11,
     "metadata": {},
     "output_type": "execute_result"
    }
   ],
   "source": [
    "df"
   ]
  },
  {
   "cell_type": "code",
   "execution_count": 12,
   "metadata": {},
   "outputs": [
    {
     "data": {
      "text/plain": [
       "(0.5, 1)"
      ]
     },
     "execution_count": 12,
     "metadata": {},
     "output_type": "execute_result"
    },
    {
     "data": {
      "image/png": "[encoded data removed]",
      "text/plain": [
       "<matplotlib.figure.Figure at 0x21ef28d9be0>"
      ]
     },
     "metadata": {},
     "output_type": "display_data"
    }
   ],
   "source": [
    "sns.distplot(df['score'][df['tone_id'] == 'analytical'], kde=False)\n",
    "plt.xlim((0.5, 1))"
   ]
  },
  {
   "cell_type": "code",
   "execution_count": 13,
   "metadata": {
    "collapsed": true
   },
   "outputs": [],
   "source": [
    "def plot_distribution_of_scores(df):\n",
    "    for tone in ('emotion', 'fear', 'joy', 'sadness', 'analytical', 'confident', 'tentative'):\n",
    "        if tone in df['tone_id'].values:\n",
    "            x = df['score'][df['tone_id'] == tone]\n",
    "            data = [go.Histogram(x=x)]\n",
    "            layout = go.Layout(\n",
    "                title=tone,\n",
    "                xaxis=dict(\n",
    "                    title='Score'\n",
    "                ),\n",
    "                yaxis=dict(\n",
    "                    title='Count'\n",
    "                ),\n",
    "                bargap=0.2,\n",
    "                bargroupgap=0.1\n",
    "            )\n",
    "            fig = go.Figure(data=data, layout=layout)\n",
    "            iplot(fig)"
   ]
  },
  {
   "cell_type": "code",
   "execution_count": 14,
   "metadata": {},
   "outputs": [
    {
     "data": {
      "text/html": [
       "<div>\n",
       "<style>\n",
       "    .dataframe thead tr:only-child th {\n",
       "        text-align: right;\n",
       "    }\n",
       "\n",
       "    .dataframe thead th {\n",
       "        text-align: left;\n",
       "    }\n",
       "\n",
       "    .dataframe tbody tr th {\n",
       "        vertical-align: top;\n",
       "    }\n",
       "</style>\n",
       "<table border=\"1\" class=\"dataframe\">\n",
       "  <thead>\n",
       "    <tr style=\"text-align: right;\">\n",
       "      <th></th>\n",
       "      <th>sentence_id</th>\n",
       "      <th>tone_id</th>\n",
       "      <th>score</th>\n",
       "    </tr>\n",
       "  </thead>\n",
       "  <tbody>\n",
       "    <tr>\n",
       "      <th>0</th>\n",
       "      <td>0</td>\n",
       "      <td>analytical</td>\n",
       "      <td>0.801827</td>\n",
       "    </tr>\n",
       "    <tr>\n",
       "      <th>1</th>\n",
       "      <td>1</td>\n",
       "      <td>sadness</td>\n",
       "      <td>0.771241</td>\n",
       "    </tr>\n",
       "    <tr>\n",
       "      <th>2</th>\n",
       "      <td>1</td>\n",
       "      <td>analytical</td>\n",
       "      <td>0.687768</td>\n",
       "    </tr>\n",
       "    <tr>\n",
       "      <th>3</th>\n",
       "      <td>2</td>\n",
       "      <td>analytical</td>\n",
       "      <td>0.506763</td>\n",
       "    </tr>\n",
       "  </tbody>\n",
       "</table>\n",
       "</div>"
      ],
      "text/plain": [
       "   sentence_id     tone_id     score\n",
       "0            0  analytical  0.801827\n",
       "1            1     sadness  0.771241\n",
       "2            1  analytical  0.687768\n",
       "3            2  analytical  0.506763"
      ]
     },
     "execution_count": 14,
     "metadata": {},
     "output_type": "execute_result"
    }
   ],
   "source": [
    "df"
   ]
  },
  {
   "cell_type": "code",
   "execution_count": 15,
   "metadata": {},
   "outputs": [
    {
     "data": {
      "application/vnd.plotly.v1+json": {
       "data": [
        {
         "type": "histogram",
         "uid": "5655f365-164a-47f7-9514-8151733afbf1",
         "x": [
          0.771241
         ]
        }
       ],
       "layout": {
        "bargap": 0.2,
        "bargroupgap": 0.1,
        "title": "sadness",
        "xaxis": {
         "title": "Score"
        },
        "yaxis": {
         "title": "Count"
        }
       }
      },
      "text/html": [
       "<div id=\"e53ec05e-f603-4d21-909a-ac61073a5fb1\" style=\"height: 525px; width: 100%;\" class=\"plotly-graph-div\"></div><script type=\"text/javascript\">require([\"plotly\"], function(Plotly) { window.PLOTLYENV=window.PLOTLYENV || {};window.PLOTLYENV.BASE_URL=\"https://plot.ly\";Plotly.newPlot(\"e53ec05e-f603-4d21-909a-ac61073a5fb1\", [{\"x\": [0.771241], \"type\": \"histogram\", \"uid\": \"5655f365-164a-47f7-9514-8151733afbf1\"}], {\"bargap\": 0.2, \"bargroupgap\": 0.1, \"title\": \"sadness\", \"xaxis\": {\"title\": \"Score\"}, \"yaxis\": {\"title\": \"Count\"}}, {\"showLink\": true, \"linkText\": \"Export to plot.ly\"})});</script><script type=\"text/javascript\">window.addEventListener(\"resize\", function(){Plotly.Plots.resize(document.getElementById(\"e53ec05e-f603-4d21-909a-ac61073a5fb1\"));});</script>"
      ],
      "text/vnd.plotly.v1+html": [
       "<div id=\"e53ec05e-f603-4d21-909a-ac61073a5fb1\" style=\"height: 525px; width: 100%;\" class=\"plotly-graph-div\"></div><script type=\"text/javascript\">require([\"plotly\"], function(Plotly) { window.PLOTLYENV=window.PLOTLYENV || {};window.PLOTLYENV.BASE_URL=\"https://plot.ly\";Plotly.newPlot(\"e53ec05e-f603-4d21-909a-ac61073a5fb1\", [{\"x\": [0.771241], \"type\": \"histogram\", \"uid\": \"5655f365-164a-47f7-9514-8151733afbf1\"}], {\"bargap\": 0.2, \"bargroupgap\": 0.1, \"title\": \"sadness\", \"xaxis\": {\"title\": \"Score\"}, \"yaxis\": {\"title\": \"Count\"}}, {\"showLink\": true, \"linkText\": \"Export to plot.ly\"})});</script><script type=\"text/javascript\">window.addEventListener(\"resize\", function(){Plotly.Plots.resize(document.getElementById(\"e53ec05e-f603-4d21-909a-ac61073a5fb1\"));});</script>"
      ]
     },
     "metadata": {},
     "output_type": "display_data"
    },
    {
     "data": {
      "application/vnd.plotly.v1+json": {
       "data": [
        {
         "type": "histogram",
         "uid": "2903ebdf-ca6c-4496-a507-a20cdcf43499",
         "x": [
          0.801827,
          0.687768,
          0.506763
         ]
        }
       ],
       "layout": {
        "bargap": 0.2,
        "bargroupgap": 0.1,
        "title": "analytical",
        "xaxis": {
         "title": "Score"
        },
        "yaxis": {
         "title": "Count"
        }
       }
      },
      "text/html": [
       "<div id=\"fb06194b-d371-4267-b2d5-959b9048336d\" style=\"height: 525px; width: 100%;\" class=\"plotly-graph-div\"></div><script type=\"text/javascript\">require([\"plotly\"], function(Plotly) { window.PLOTLYENV=window.PLOTLYENV || {};window.PLOTLYENV.BASE_URL=\"https://plot.ly\";Plotly.newPlot(\"fb06194b-d371-4267-b2d5-959b9048336d\", [{\"x\": [0.801827, 0.687768, 0.506763], \"type\": \"histogram\", \"uid\": \"2903ebdf-ca6c-4496-a507-a20cdcf43499\"}], {\"bargap\": 0.2, \"bargroupgap\": 0.1, \"title\": \"analytical\", \"xaxis\": {\"title\": \"Score\"}, \"yaxis\": {\"title\": \"Count\"}}, {\"showLink\": true, \"linkText\": \"Export to plot.ly\"})});</script><script type=\"text/javascript\">window.addEventListener(\"resize\", function(){Plotly.Plots.resize(document.getElementById(\"fb06194b-d371-4267-b2d5-959b9048336d\"));});</script>"
      ],
      "text/vnd.plotly.v1+html": [
       "<div id=\"fb06194b-d371-4267-b2d5-959b9048336d\" style=\"height: 525px; width: 100%;\" class=\"plotly-graph-div\"></div><script type=\"text/javascript\">require([\"plotly\"], function(Plotly) { window.PLOTLYENV=window.PLOTLYENV || {};window.PLOTLYENV.BASE_URL=\"https://plot.ly\";Plotly.newPlot(\"fb06194b-d371-4267-b2d5-959b9048336d\", [{\"x\": [0.801827, 0.687768, 0.506763], \"type\": \"histogram\", \"uid\": \"2903ebdf-ca6c-4496-a507-a20cdcf43499\"}], {\"bargap\": 0.2, \"bargroupgap\": 0.1, \"title\": \"analytical\", \"xaxis\": {\"title\": \"Score\"}, \"yaxis\": {\"title\": \"Count\"}}, {\"showLink\": true, \"linkText\": \"Export to plot.ly\"})});</script><script type=\"text/javascript\">window.addEventListener(\"resize\", function(){Plotly.Plots.resize(document.getElementById(\"fb06194b-d371-4267-b2d5-959b9048336d\"));});</script>"
      ]
     },
     "metadata": {},
     "output_type": "display_data"
    }
   ],
   "source": [
    "plot_distribution_of_scores(df)"
   ]
  },
  {
   "cell_type": "code",
   "execution_count": 16,
   "metadata": {},
   "outputs": [],
   "source": [
    "def plot_proportion_of_sentences_with_emotion(df):\n",
    "    x=['joy', 'confident', 'analytical', 'neutral', 'tentative', 'sadness', 'anger']\n",
    "    data = [go.Bar(\n",
    "                x = x,\n",
    "                y=(df.groupby('tone_id')['score'].count()/(df['sentence_id'].values[-1] + 1)).loc[x].fillna(0),\n",
    "                marker=dict(\n",
    "                    color=['#47EC6C', '#A7C696',\n",
    "                   '#C6B26D', '#CEC8B2',\n",
    "                   '#EEBA91', '#E8796B', '#F4493B'])\n",
    "                )\n",
    "            ]\n",
    "    layout = go.Layout(\n",
    "                title=\"Proportion of Sentences With Tone\",\n",
    "                xaxis=dict(\n",
    "                    title='Tone'\n",
    "                ),\n",
    "                yaxis=dict(\n",
    "                    title='Proportion'\n",
    "                ),\n",
    "                bargap=0.2,\n",
    "                bargroupgap=0.1\n",
    "            )\n",
    "    fig = go.Figure(data=data, layout=layout)\n",
    "    iplot(fig)"
   ]
  },
  {
   "cell_type": "code",
   "execution_count": 17,
   "metadata": {},
   "outputs": [],
   "source": [
    "x = df.groupby('tone_id')"
   ]
  },
  {
   "cell_type": "code",
   "execution_count": 18,
   "metadata": {},
   "outputs": [
    {
     "data": {
      "text/plain": [
       "dict_keys(['analytical', 'sadness'])"
      ]
     },
     "execution_count": 18,
     "metadata": {},
     "output_type": "execute_result"
    }
   ],
   "source": [
    "x.groups.keys()"
   ]
  },
  {
   "cell_type": "code",
   "execution_count": 19,
   "metadata": {
    "collapsed": true
   },
   "outputs": [],
   "source": [
    "text3 = \"\"\"\n",
    "Hello Jeremy, I have a huge midterm coming up. My life is a mess right now. Cal Hacks is pretty fun though. This is a great experience. I am kind of hungry. It's a terrible sleeping environment. Why did you have to be so stupid? Who's idea was it to sleep here?? Hello Jeremy, I have a huge midterm coming up. My life is a mess right now. Cal Hacks is pretty fun though. This is a great experience. I am kind of hungry. It's a terrible sleeping environment. Why did you have to be so stupid? Who's idea was it to sleep here??\n",
    "\"\"\"\n",
    "tone_analysis3 = tone_analyzer.tone(\n",
    "    {'text': text3},\n",
    "    'application/json'\n",
    ").get_result()"
   ]
  },
  {
   "cell_type": "code",
   "execution_count": 20,
   "metadata": {},
   "outputs": [
    {
     "data": {
      "text/plain": [
       "{'document_tone': {'tones': [{'score': 0.562712,\n",
       "    'tone_id': 'joy',\n",
       "    'tone_name': 'Joy'},\n",
       "   {'score': 0.70865, 'tone_id': 'tentative', 'tone_name': 'Tentative'}]},\n",
       " 'sentences_tone': [{'sentence_id': 0,\n",
       "   'text': 'Hello Jeremy, I have a huge midterm coming up.',\n",
       "   'tones': []},\n",
       "  {'sentence_id': 1,\n",
       "   'text': 'My life is a mess right now.',\n",
       "   'tones': [{'score': 0.50516,\n",
       "     'tone_id': 'sadness',\n",
       "     'tone_name': 'Sadness'}]},\n",
       "  {'sentence_id': 2,\n",
       "   'text': 'Cal Hacks is pretty fun though.',\n",
       "   'tones': [{'score': 0.753173, 'tone_id': 'joy', 'tone_name': 'Joy'},\n",
       "    {'score': 0.946222, 'tone_id': 'tentative', 'tone_name': 'Tentative'}]},\n",
       "  {'sentence_id': 3,\n",
       "   'text': 'This is a great experience.',\n",
       "   'tones': [{'score': 0.572197, 'tone_id': 'joy', 'tone_name': 'Joy'}]},\n",
       "  {'sentence_id': 4,\n",
       "   'text': 'I am kind of hungry.',\n",
       "   'tones': [{'score': 0.59549, 'tone_id': 'anger', 'tone_name': 'Anger'},\n",
       "    {'score': 0.968123, 'tone_id': 'tentative', 'tone_name': 'Tentative'}]},\n",
       "  {'sentence_id': 5,\n",
       "   'text': \"It's a terrible sleeping environment.\",\n",
       "   'tones': [{'score': 0.566571,\n",
       "     'tone_id': 'sadness',\n",
       "     'tone_name': 'Sadness'}]},\n",
       "  {'sentence_id': 6,\n",
       "   'text': 'Why did you have to be so stupid?',\n",
       "   'tones': [{'score': 0.866237,\n",
       "     'tone_id': 'confident',\n",
       "     'tone_name': 'Confident'}]},\n",
       "  {'sentence_id': 7,\n",
       "   'text': \"Who's idea was it to sleep here?? Hello Jeremy, I have a huge midterm coming up.\",\n",
       "   'tones': [{'score': 0.557492, 'tone_id': 'fear', 'tone_name': 'Fear'},\n",
       "    {'score': 0.506763, 'tone_id': 'analytical', 'tone_name': 'Analytical'}]},\n",
       "  {'sentence_id': 8,\n",
       "   'text': 'My life is a mess right now.',\n",
       "   'tones': [{'score': 0.50516,\n",
       "     'tone_id': 'sadness',\n",
       "     'tone_name': 'Sadness'}]},\n",
       "  {'sentence_id': 9,\n",
       "   'text': 'Cal Hacks is pretty fun though.',\n",
       "   'tones': [{'score': 0.753173, 'tone_id': 'joy', 'tone_name': 'Joy'},\n",
       "    {'score': 0.946222, 'tone_id': 'tentative', 'tone_name': 'Tentative'}]},\n",
       "  {'sentence_id': 10,\n",
       "   'text': 'This is a great experience.',\n",
       "   'tones': [{'score': 0.572197, 'tone_id': 'joy', 'tone_name': 'Joy'}]},\n",
       "  {'sentence_id': 11,\n",
       "   'text': 'I am kind of hungry.',\n",
       "   'tones': [{'score': 0.59549, 'tone_id': 'anger', 'tone_name': 'Anger'},\n",
       "    {'score': 0.968123, 'tone_id': 'tentative', 'tone_name': 'Tentative'}]},\n",
       "  {'sentence_id': 12,\n",
       "   'text': \"It's a terrible sleeping environment.\",\n",
       "   'tones': [{'score': 0.566571,\n",
       "     'tone_id': 'sadness',\n",
       "     'tone_name': 'Sadness'}]},\n",
       "  {'sentence_id': 13,\n",
       "   'text': 'Why did you have to be so stupid?',\n",
       "   'tones': [{'score': 0.866237,\n",
       "     'tone_id': 'confident',\n",
       "     'tone_name': 'Confident'}]},\n",
       "  {'sentence_id': 14,\n",
       "   'text': \"Who's idea was it to sleep here??\",\n",
       "   'tones': [{'score': 0.801827,\n",
       "     'tone_id': 'analytical',\n",
       "     'tone_name': 'Analytical'}]}]}"
      ]
     },
     "execution_count": 20,
     "metadata": {},
     "output_type": "execute_result"
    }
   ],
   "source": [
    "tone_analysis3"
   ]
  },
  {
   "cell_type": "code",
   "execution_count": 21,
   "metadata": {},
   "outputs": [],
   "source": [
    "df3 = response_to_df(tone_analysis3)"
   ]
  },
  {
   "cell_type": "code",
   "execution_count": 22,
   "metadata": {},
   "outputs": [
    {
     "data": {
      "text/html": [
       "<div>\n",
       "<style>\n",
       "    .dataframe thead tr:only-child th {\n",
       "        text-align: right;\n",
       "    }\n",
       "\n",
       "    .dataframe thead th {\n",
       "        text-align: left;\n",
       "    }\n",
       "\n",
       "    .dataframe tbody tr th {\n",
       "        vertical-align: top;\n",
       "    }\n",
       "</style>\n",
       "<table border=\"1\" class=\"dataframe\">\n",
       "  <thead>\n",
       "    <tr style=\"text-align: right;\">\n",
       "      <th></th>\n",
       "      <th>sentence_id</th>\n",
       "      <th>tone_id</th>\n",
       "      <th>score</th>\n",
       "    </tr>\n",
       "  </thead>\n",
       "  <tbody>\n",
       "    <tr>\n",
       "      <th>0</th>\n",
       "      <td>0</td>\n",
       "      <td>neutral</td>\n",
       "      <td>1.000000</td>\n",
       "    </tr>\n",
       "    <tr>\n",
       "      <th>1</th>\n",
       "      <td>1</td>\n",
       "      <td>sadness</td>\n",
       "      <td>0.505160</td>\n",
       "    </tr>\n",
       "    <tr>\n",
       "      <th>2</th>\n",
       "      <td>2</td>\n",
       "      <td>joy</td>\n",
       "      <td>0.753173</td>\n",
       "    </tr>\n",
       "    <tr>\n",
       "      <th>3</th>\n",
       "      <td>2</td>\n",
       "      <td>tentative</td>\n",
       "      <td>0.946222</td>\n",
       "    </tr>\n",
       "    <tr>\n",
       "      <th>4</th>\n",
       "      <td>3</td>\n",
       "      <td>joy</td>\n",
       "      <td>0.572197</td>\n",
       "    </tr>\n",
       "    <tr>\n",
       "      <th>5</th>\n",
       "      <td>4</td>\n",
       "      <td>anger</td>\n",
       "      <td>0.595490</td>\n",
       "    </tr>\n",
       "    <tr>\n",
       "      <th>6</th>\n",
       "      <td>4</td>\n",
       "      <td>tentative</td>\n",
       "      <td>0.968123</td>\n",
       "    </tr>\n",
       "    <tr>\n",
       "      <th>7</th>\n",
       "      <td>5</td>\n",
       "      <td>sadness</td>\n",
       "      <td>0.566571</td>\n",
       "    </tr>\n",
       "    <tr>\n",
       "      <th>8</th>\n",
       "      <td>6</td>\n",
       "      <td>confident</td>\n",
       "      <td>0.866237</td>\n",
       "    </tr>\n",
       "    <tr>\n",
       "      <th>9</th>\n",
       "      <td>7</td>\n",
       "      <td>fear</td>\n",
       "      <td>0.557492</td>\n",
       "    </tr>\n",
       "    <tr>\n",
       "      <th>10</th>\n",
       "      <td>7</td>\n",
       "      <td>analytical</td>\n",
       "      <td>0.506763</td>\n",
       "    </tr>\n",
       "    <tr>\n",
       "      <th>11</th>\n",
       "      <td>8</td>\n",
       "      <td>sadness</td>\n",
       "      <td>0.505160</td>\n",
       "    </tr>\n",
       "    <tr>\n",
       "      <th>12</th>\n",
       "      <td>9</td>\n",
       "      <td>joy</td>\n",
       "      <td>0.753173</td>\n",
       "    </tr>\n",
       "    <tr>\n",
       "      <th>13</th>\n",
       "      <td>9</td>\n",
       "      <td>tentative</td>\n",
       "      <td>0.946222</td>\n",
       "    </tr>\n",
       "    <tr>\n",
       "      <th>14</th>\n",
       "      <td>10</td>\n",
       "      <td>joy</td>\n",
       "      <td>0.572197</td>\n",
       "    </tr>\n",
       "    <tr>\n",
       "      <th>15</th>\n",
       "      <td>11</td>\n",
       "      <td>anger</td>\n",
       "      <td>0.595490</td>\n",
       "    </tr>\n",
       "    <tr>\n",
       "      <th>16</th>\n",
       "      <td>11</td>\n",
       "      <td>tentative</td>\n",
       "      <td>0.968123</td>\n",
       "    </tr>\n",
       "    <tr>\n",
       "      <th>17</th>\n",
       "      <td>12</td>\n",
       "      <td>sadness</td>\n",
       "      <td>0.566571</td>\n",
       "    </tr>\n",
       "    <tr>\n",
       "      <th>18</th>\n",
       "      <td>13</td>\n",
       "      <td>confident</td>\n",
       "      <td>0.866237</td>\n",
       "    </tr>\n",
       "    <tr>\n",
       "      <th>19</th>\n",
       "      <td>14</td>\n",
       "      <td>analytical</td>\n",
       "      <td>0.801827</td>\n",
       "    </tr>\n",
       "  </tbody>\n",
       "</table>\n",
       "</div>"
      ],
      "text/plain": [
       "    sentence_id     tone_id     score\n",
       "0             0     neutral  1.000000\n",
       "1             1     sadness  0.505160\n",
       "2             2         joy  0.753173\n",
       "3             2   tentative  0.946222\n",
       "4             3         joy  0.572197\n",
       "5             4       anger  0.595490\n",
       "6             4   tentative  0.968123\n",
       "7             5     sadness  0.566571\n",
       "8             6   confident  0.866237\n",
       "9             7        fear  0.557492\n",
       "10            7  analytical  0.506763\n",
       "11            8     sadness  0.505160\n",
       "12            9         joy  0.753173\n",
       "13            9   tentative  0.946222\n",
       "14           10         joy  0.572197\n",
       "15           11       anger  0.595490\n",
       "16           11   tentative  0.968123\n",
       "17           12     sadness  0.566571\n",
       "18           13   confident  0.866237\n",
       "19           14  analytical  0.801827"
      ]
     },
     "execution_count": 22,
     "metadata": {},
     "output_type": "execute_result"
    }
   ],
   "source": [
    "df3"
   ]
  },
  {
   "cell_type": "code",
   "execution_count": 23,
   "metadata": {
    "scrolled": false
   },
   "outputs": [
    {
     "data": {
      "application/vnd.plotly.v1+json": {
       "data": [
        {
         "type": "histogram",
         "uid": "c42ceccd-c936-473c-afe9-0a86f33e1d07",
         "x": [
          0.557492
         ]
        }
       ],
       "layout": {
        "bargap": 0.2,
        "bargroupgap": 0.1,
        "title": "fear",
        "xaxis": {
         "title": "Score"
        },
        "yaxis": {
         "title": "Count"
        }
       }
      },
      "text/html": [
       "<div id=\"9daaadb5-5e96-43d4-b4f6-6dc30a7bd357\" style=\"height: 525px; width: 100%;\" class=\"plotly-graph-div\"></div><script type=\"text/javascript\">require([\"plotly\"], function(Plotly) { window.PLOTLYENV=window.PLOTLYENV || {};window.PLOTLYENV.BASE_URL=\"https://plot.ly\";Plotly.newPlot(\"9daaadb5-5e96-43d4-b4f6-6dc30a7bd357\", [{\"x\": [0.557492], \"type\": \"histogram\", \"uid\": \"c42ceccd-c936-473c-afe9-0a86f33e1d07\"}], {\"bargap\": 0.2, \"bargroupgap\": 0.1, \"title\": \"fear\", \"xaxis\": {\"title\": \"Score\"}, \"yaxis\": {\"title\": \"Count\"}}, {\"showLink\": true, \"linkText\": \"Export to plot.ly\"})});</script><script type=\"text/javascript\">window.addEventListener(\"resize\", function(){Plotly.Plots.resize(document.getElementById(\"9daaadb5-5e96-43d4-b4f6-6dc30a7bd357\"));});</script>"
      ],
      "text/vnd.plotly.v1+html": [
       "<div id=\"9daaadb5-5e96-43d4-b4f6-6dc30a7bd357\" style=\"height: 525px; width: 100%;\" class=\"plotly-graph-div\"></div><script type=\"text/javascript\">require([\"plotly\"], function(Plotly) { window.PLOTLYENV=window.PLOTLYENV || {};window.PLOTLYENV.BASE_URL=\"https://plot.ly\";Plotly.newPlot(\"9daaadb5-5e96-43d4-b4f6-6dc30a7bd357\", [{\"x\": [0.557492], \"type\": \"histogram\", \"uid\": \"c42ceccd-c936-473c-afe9-0a86f33e1d07\"}], {\"bargap\": 0.2, \"bargroupgap\": 0.1, \"title\": \"fear\", \"xaxis\": {\"title\": \"Score\"}, \"yaxis\": {\"title\": \"Count\"}}, {\"showLink\": true, \"linkText\": \"Export to plot.ly\"})});</script><script type=\"text/javascript\">window.addEventListener(\"resize\", function(){Plotly.Plots.resize(document.getElementById(\"9daaadb5-5e96-43d4-b4f6-6dc30a7bd357\"));});</script>"
      ]
     },
     "metadata": {},
     "output_type": "display_data"
    },
    {
     "data": {
      "application/vnd.plotly.v1+json": {
       "data": [
        {
         "type": "histogram",
         "uid": "5f58bafe-a2ad-40b4-a01f-4e9973307292",
         "x": [
          0.753173,
          0.572197,
          0.753173,
          0.572197
         ]
        }
       ],
       "layout": {
        "bargap": 0.2,
        "bargroupgap": 0.1,
        "title": "joy",
        "xaxis": {
         "title": "Score"
        },
        "yaxis": {
         "title": "Count"
        }
       }
      },
      "text/html": [
       "<div id=\"6ed71176-653d-473d-b8f2-30b7dae428fc\" style=\"height: 525px; width: 100%;\" class=\"plotly-graph-div\"></div><script type=\"text/javascript\">require([\"plotly\"], function(Plotly) { window.PLOTLYENV=window.PLOTLYENV || {};window.PLOTLYENV.BASE_URL=\"https://plot.ly\";Plotly.newPlot(\"6ed71176-653d-473d-b8f2-30b7dae428fc\", [{\"x\": [0.753173, 0.572197, 0.753173, 0.572197], \"type\": \"histogram\", \"uid\": \"5f58bafe-a2ad-40b4-a01f-4e9973307292\"}], {\"bargap\": 0.2, \"bargroupgap\": 0.1, \"title\": \"joy\", \"xaxis\": {\"title\": \"Score\"}, \"yaxis\": {\"title\": \"Count\"}}, {\"showLink\": true, \"linkText\": \"Export to plot.ly\"})});</script><script type=\"text/javascript\">window.addEventListener(\"resize\", function(){Plotly.Plots.resize(document.getElementById(\"6ed71176-653d-473d-b8f2-30b7dae428fc\"));});</script>"
      ],
      "text/vnd.plotly.v1+html": [
       "<div id=\"6ed71176-653d-473d-b8f2-30b7dae428fc\" style=\"height: 525px; width: 100%;\" class=\"plotly-graph-div\"></div><script type=\"text/javascript\">require([\"plotly\"], function(Plotly) { window.PLOTLYENV=window.PLOTLYENV || {};window.PLOTLYENV.BASE_URL=\"https://plot.ly\";Plotly.newPlot(\"6ed71176-653d-473d-b8f2-30b7dae428fc\", [{\"x\": [0.753173, 0.572197, 0.753173, 0.572197], \"type\": \"histogram\", \"uid\": \"5f58bafe-a2ad-40b4-a01f-4e9973307292\"}], {\"bargap\": 0.2, \"bargroupgap\": 0.1, \"title\": \"joy\", \"xaxis\": {\"title\": \"Score\"}, \"yaxis\": {\"title\": \"Count\"}}, {\"showLink\": true, \"linkText\": \"Export to plot.ly\"})});</script><script type=\"text/javascript\">window.addEventListener(\"resize\", function(){Plotly.Plots.resize(document.getElementById(\"6ed71176-653d-473d-b8f2-30b7dae428fc\"));});</script>"
      ]
     },
     "metadata": {},
     "output_type": "display_data"
    },
    {
     "data": {
      "application/vnd.plotly.v1+json": {
       "data": [
        {
         "type": "histogram",
         "uid": "294d68c8-f18f-49bd-af94-6dbd0eb8a5dd",
         "x": [
          0.50516,
          0.566571,
          0.50516,
          0.566571
         ]
        }
       ],
       "layout": {
        "bargap": 0.2,
        "bargroupgap": 0.1,
        "title": "sadness",
        "xaxis": {
         "title": "Score"
        },
        "yaxis": {
         "title": "Count"
        }
       }
      },
      "text/html": [
       "<div id=\"9df7e7ea-af4e-46be-a7fa-7b2dbc6c7485\" style=\"height: 525px; width: 100%;\" class=\"plotly-graph-div\"></div><script type=\"text/javascript\">require([\"plotly\"], function(Plotly) { window.PLOTLYENV=window.PLOTLYENV || {};window.PLOTLYENV.BASE_URL=\"https://plot.ly\";Plotly.newPlot(\"9df7e7ea-af4e-46be-a7fa-7b2dbc6c7485\", [{\"x\": [0.50516, 0.566571, 0.50516, 0.566571], \"type\": \"histogram\", \"uid\": \"294d68c8-f18f-49bd-af94-6dbd0eb8a5dd\"}], {\"bargap\": 0.2, \"bargroupgap\": 0.1, \"title\": \"sadness\", \"xaxis\": {\"title\": \"Score\"}, \"yaxis\": {\"title\": \"Count\"}}, {\"showLink\": true, \"linkText\": \"Export to plot.ly\"})});</script><script type=\"text/javascript\">window.addEventListener(\"resize\", function(){Plotly.Plots.resize(document.getElementById(\"9df7e7ea-af4e-46be-a7fa-7b2dbc6c7485\"));});</script>"
      ],
      "text/vnd.plotly.v1+html": [
       "<div id=\"9df7e7ea-af4e-46be-a7fa-7b2dbc6c7485\" style=\"height: 525px; width: 100%;\" class=\"plotly-graph-div\"></div><script type=\"text/javascript\">require([\"plotly\"], function(Plotly) { window.PLOTLYENV=window.PLOTLYENV || {};window.PLOTLYENV.BASE_URL=\"https://plot.ly\";Plotly.newPlot(\"9df7e7ea-af4e-46be-a7fa-7b2dbc6c7485\", [{\"x\": [0.50516, 0.566571, 0.50516, 0.566571], \"type\": \"histogram\", \"uid\": \"294d68c8-f18f-49bd-af94-6dbd0eb8a5dd\"}], {\"bargap\": 0.2, \"bargroupgap\": 0.1, \"title\": \"sadness\", \"xaxis\": {\"title\": \"Score\"}, \"yaxis\": {\"title\": \"Count\"}}, {\"showLink\": true, \"linkText\": \"Export to plot.ly\"})});</script><script type=\"text/javascript\">window.addEventListener(\"resize\", function(){Plotly.Plots.resize(document.getElementById(\"9df7e7ea-af4e-46be-a7fa-7b2dbc6c7485\"));});</script>"
      ]
     },
     "metadata": {},
     "output_type": "display_data"
    },
    {
     "data": {
      "application/vnd.plotly.v1+json": {
       "data": [
        {
         "type": "histogram",
         "uid": "eb6eea95-6953-4afb-83f2-411b6a8cc047",
         "x": [
          0.506763,
          0.801827
         ]
        }
       ],
       "layout": {
        "bargap": 0.2,
        "bargroupgap": 0.1,
        "title": "analytical",
        "xaxis": {
         "title": "Score"
        },
        "yaxis": {
         "title": "Count"
        }
       }
      },
      "text/html": [
       "<div id=\"e621cbc0-bd70-411e-9e72-0f9aa726ad47\" style=\"height: 525px; width: 100%;\" class=\"plotly-graph-div\"></div><script type=\"text/javascript\">require([\"plotly\"], function(Plotly) { window.PLOTLYENV=window.PLOTLYENV || {};window.PLOTLYENV.BASE_URL=\"https://plot.ly\";Plotly.newPlot(\"e621cbc0-bd70-411e-9e72-0f9aa726ad47\", [{\"x\": [0.506763, 0.801827], \"type\": \"histogram\", \"uid\": \"eb6eea95-6953-4afb-83f2-411b6a8cc047\"}], {\"bargap\": 0.2, \"bargroupgap\": 0.1, \"title\": \"analytical\", \"xaxis\": {\"title\": \"Score\"}, \"yaxis\": {\"title\": \"Count\"}}, {\"showLink\": true, \"linkText\": \"Export to plot.ly\"})});</script><script type=\"text/javascript\">window.addEventListener(\"resize\", function(){Plotly.Plots.resize(document.getElementById(\"e621cbc0-bd70-411e-9e72-0f9aa726ad47\"));});</script>"
      ],
      "text/vnd.plotly.v1+html": [
       "<div id=\"e621cbc0-bd70-411e-9e72-0f9aa726ad47\" style=\"height: 525px; width: 100%;\" class=\"plotly-graph-div\"></div><script type=\"text/javascript\">require([\"plotly\"], function(Plotly) { window.PLOTLYENV=window.PLOTLYENV || {};window.PLOTLYENV.BASE_URL=\"https://plot.ly\";Plotly.newPlot(\"e621cbc0-bd70-411e-9e72-0f9aa726ad47\", [{\"x\": [0.506763, 0.801827], \"type\": \"histogram\", \"uid\": \"eb6eea95-6953-4afb-83f2-411b6a8cc047\"}], {\"bargap\": 0.2, \"bargroupgap\": 0.1, \"title\": \"analytical\", \"xaxis\": {\"title\": \"Score\"}, \"yaxis\": {\"title\": \"Count\"}}, {\"showLink\": true, \"linkText\": \"Export to plot.ly\"})});</script><script type=\"text/javascript\">window.addEventListener(\"resize\", function(){Plotly.Plots.resize(document.getElementById(\"e621cbc0-bd70-411e-9e72-0f9aa726ad47\"));});</script>"
      ]
     },
     "metadata": {},
     "output_type": "display_data"
    },
    {
     "data": {
      "application/vnd.plotly.v1+json": {
       "data": [
        {
         "type": "histogram",
         "uid": "f5b90e71-1e7f-4411-a070-d33696383ccd",
         "x": [
          0.866237,
          0.866237
         ]
        }
       ],
       "layout": {
        "bargap": 0.2,
        "bargroupgap": 0.1,
        "title": "confident",
        "xaxis": {
         "title": "Score"
        },
        "yaxis": {
         "title": "Count"
        }
       }
      },
      "text/html": [
       "<div id=\"96e80ff4-bb0a-4339-9db6-5b6c1bc9a639\" style=\"height: 525px; width: 100%;\" class=\"plotly-graph-div\"></div><script type=\"text/javascript\">require([\"plotly\"], function(Plotly) { window.PLOTLYENV=window.PLOTLYENV || {};window.PLOTLYENV.BASE_URL=\"https://plot.ly\";Plotly.newPlot(\"96e80ff4-bb0a-4339-9db6-5b6c1bc9a639\", [{\"x\": [0.866237, 0.866237], \"type\": \"histogram\", \"uid\": \"f5b90e71-1e7f-4411-a070-d33696383ccd\"}], {\"bargap\": 0.2, \"bargroupgap\": 0.1, \"title\": \"confident\", \"xaxis\": {\"title\": \"Score\"}, \"yaxis\": {\"title\": \"Count\"}}, {\"showLink\": true, \"linkText\": \"Export to plot.ly\"})});</script><script type=\"text/javascript\">window.addEventListener(\"resize\", function(){Plotly.Plots.resize(document.getElementById(\"96e80ff4-bb0a-4339-9db6-5b6c1bc9a639\"));});</script>"
      ],
      "text/vnd.plotly.v1+html": [
       "<div id=\"96e80ff4-bb0a-4339-9db6-5b6c1bc9a639\" style=\"height: 525px; width: 100%;\" class=\"plotly-graph-div\"></div><script type=\"text/javascript\">require([\"plotly\"], function(Plotly) { window.PLOTLYENV=window.PLOTLYENV || {};window.PLOTLYENV.BASE_URL=\"https://plot.ly\";Plotly.newPlot(\"96e80ff4-bb0a-4339-9db6-5b6c1bc9a639\", [{\"x\": [0.866237, 0.866237], \"type\": \"histogram\", \"uid\": \"f5b90e71-1e7f-4411-a070-d33696383ccd\"}], {\"bargap\": 0.2, \"bargroupgap\": 0.1, \"title\": \"confident\", \"xaxis\": {\"title\": \"Score\"}, \"yaxis\": {\"title\": \"Count\"}}, {\"showLink\": true, \"linkText\": \"Export to plot.ly\"})});</script><script type=\"text/javascript\">window.addEventListener(\"resize\", function(){Plotly.Plots.resize(document.getElementById(\"96e80ff4-bb0a-4339-9db6-5b6c1bc9a639\"));});</script>"
      ]
     },
     "metadata": {},
     "output_type": "display_data"
    },
    {
     "data": {
      "application/vnd.plotly.v1+json": {
       "data": [
        {
         "type": "histogram",
         "uid": "dea48bca-0669-4c59-b78f-e0e63483bf3f",
         "x": [
          0.946222,
          0.968123,
          0.946222,
          0.968123
         ]
        }
       ],
       "layout": {
        "bargap": 0.2,
        "bargroupgap": 0.1,
        "title": "tentative",
        "xaxis": {
         "title": "Score"
        },
        "yaxis": {
         "title": "Count"
        }
       }
      },
      "text/html": [
       "<div id=\"480741c4-8eaf-4695-9135-d503ad42778b\" style=\"height: 525px; width: 100%;\" class=\"plotly-graph-div\"></div><script type=\"text/javascript\">require([\"plotly\"], function(Plotly) { window.PLOTLYENV=window.PLOTLYENV || {};window.PLOTLYENV.BASE_URL=\"https://plot.ly\";Plotly.newPlot(\"480741c4-8eaf-4695-9135-d503ad42778b\", [{\"x\": [0.946222, 0.968123, 0.946222, 0.968123], \"type\": \"histogram\", \"uid\": \"dea48bca-0669-4c59-b78f-e0e63483bf3f\"}], {\"bargap\": 0.2, \"bargroupgap\": 0.1, \"title\": \"tentative\", \"xaxis\": {\"title\": \"Score\"}, \"yaxis\": {\"title\": \"Count\"}}, {\"showLink\": true, \"linkText\": \"Export to plot.ly\"})});</script><script type=\"text/javascript\">window.addEventListener(\"resize\", function(){Plotly.Plots.resize(document.getElementById(\"480741c4-8eaf-4695-9135-d503ad42778b\"));});</script>"
      ],
      "text/vnd.plotly.v1+html": [
       "<div id=\"480741c4-8eaf-4695-9135-d503ad42778b\" style=\"height: 525px; width: 100%;\" class=\"plotly-graph-div\"></div><script type=\"text/javascript\">require([\"plotly\"], function(Plotly) { window.PLOTLYENV=window.PLOTLYENV || {};window.PLOTLYENV.BASE_URL=\"https://plot.ly\";Plotly.newPlot(\"480741c4-8eaf-4695-9135-d503ad42778b\", [{\"x\": [0.946222, 0.968123, 0.946222, 0.968123], \"type\": \"histogram\", \"uid\": \"dea48bca-0669-4c59-b78f-e0e63483bf3f\"}], {\"bargap\": 0.2, \"bargroupgap\": 0.1, \"title\": \"tentative\", \"xaxis\": {\"title\": \"Score\"}, \"yaxis\": {\"title\": \"Count\"}}, {\"showLink\": true, \"linkText\": \"Export to plot.ly\"})});</script><script type=\"text/javascript\">window.addEventListener(\"resize\", function(){Plotly.Plots.resize(document.getElementById(\"480741c4-8eaf-4695-9135-d503ad42778b\"));});</script>"
      ]
     },
     "metadata": {},
     "output_type": "display_data"
    }
   ],
   "source": [
    "plot_distribution_of_scores(df3)"
   ]
  },
  {
   "cell_type": "code",
   "execution_count": 24,
   "metadata": {},
   "outputs": [
    {
     "data": {
      "application/vnd.plotly.v1+json": {
       "data": [
        {
         "marker": {
          "color": [
           "#47EC6C",
           "#A7C696",
           "#C6B26D",
           "#CEC8B2",
           "#EEBA91",
           "#E8796B",
           "#F4493B"
          ]
         },
         "type": "bar",
         "uid": "b5b9f532-d989-4a3c-ab56-4b4af6e1de47",
         "x": [
          "joy",
          "confident",
          "analytical",
          "neutral",
          "tentative",
          "sadness",
          "anger"
         ],
         "y": [
          0.26666666666666666,
          0.13333333333333333,
          0.13333333333333333,
          0.06666666666666667,
          0.26666666666666666,
          0.26666666666666666,
          0.13333333333333333
         ]
        }
       ],
       "layout": {
        "bargap": 0.2,
        "bargroupgap": 0.1,
        "title": "Proportion of Sentences With Tone",
        "xaxis": {
         "title": "Tone"
        },
        "yaxis": {
         "title": "Proportion"
        }
       }
      },
      "text/html": [
       "<div id=\"825ec966-f9c7-493a-affc-4697dcc558e5\" style=\"height: 525px; width: 100%;\" class=\"plotly-graph-div\"></div><script type=\"text/javascript\">require([\"plotly\"], function(Plotly) { window.PLOTLYENV=window.PLOTLYENV || {};window.PLOTLYENV.BASE_URL=\"https://plot.ly\";Plotly.newPlot(\"825ec966-f9c7-493a-affc-4697dcc558e5\", [{\"marker\": {\"color\": [\"#47EC6C\", \"#A7C696\", \"#C6B26D\", \"#CEC8B2\", \"#EEBA91\", \"#E8796B\", \"#F4493B\"]}, \"x\": [\"joy\", \"confident\", \"analytical\", \"neutral\", \"tentative\", \"sadness\", \"anger\"], \"y\": [0.26666666666666666, 0.13333333333333333, 0.13333333333333333, 0.06666666666666667, 0.26666666666666666, 0.26666666666666666, 0.13333333333333333], \"type\": \"bar\", \"uid\": \"b5b9f532-d989-4a3c-ab56-4b4af6e1de47\"}], {\"bargap\": 0.2, \"bargroupgap\": 0.1, \"title\": \"Proportion of Sentences With Tone\", \"xaxis\": {\"title\": \"Tone\"}, \"yaxis\": {\"title\": \"Proportion\"}}, {\"showLink\": true, \"linkText\": \"Export to plot.ly\"})});</script><script type=\"text/javascript\">window.addEventListener(\"resize\", function(){Plotly.Plots.resize(document.getElementById(\"825ec966-f9c7-493a-affc-4697dcc558e5\"));});</script>"
      ],
      "text/vnd.plotly.v1+html": [
       "<div id=\"825ec966-f9c7-493a-affc-4697dcc558e5\" style=\"height: 525px; width: 100%;\" class=\"plotly-graph-div\"></div><script type=\"text/javascript\">require([\"plotly\"], function(Plotly) { window.PLOTLYENV=window.PLOTLYENV || {};window.PLOTLYENV.BASE_URL=\"https://plot.ly\";Plotly.newPlot(\"825ec966-f9c7-493a-affc-4697dcc558e5\", [{\"marker\": {\"color\": [\"#47EC6C\", \"#A7C696\", \"#C6B26D\", \"#CEC8B2\", \"#EEBA91\", \"#E8796B\", \"#F4493B\"]}, \"x\": [\"joy\", \"confident\", \"analytical\", \"neutral\", \"tentative\", \"sadness\", \"anger\"], \"y\": [0.26666666666666666, 0.13333333333333333, 0.13333333333333333, 0.06666666666666667, 0.26666666666666666, 0.26666666666666666, 0.13333333333333333], \"type\": \"bar\", \"uid\": \"b5b9f532-d989-4a3c-ab56-4b4af6e1de47\"}], {\"bargap\": 0.2, \"bargroupgap\": 0.1, \"title\": \"Proportion of Sentences With Tone\", \"xaxis\": {\"title\": \"Tone\"}, \"yaxis\": {\"title\": \"Proportion\"}}, {\"showLink\": true, \"linkText\": \"Export to plot.ly\"})});</script><script type=\"text/javascript\">window.addEventListener(\"resize\", function(){Plotly.Plots.resize(document.getElementById(\"825ec966-f9c7-493a-affc-4697dcc558e5\"));});</script>"
      ]
     },
     "metadata": {},
     "output_type": "display_data"
    }
   ],
   "source": [
    "plot_proportion_of_sentences_with_emotion(df3)"
   ]
  },
  {
   "cell_type": "code",
   "execution_count": 25,
   "metadata": {},
   "outputs": [
    {
     "data": {
      "text/html": [
       "<div>\n",
       "<style>\n",
       "    .dataframe thead tr:only-child th {\n",
       "        text-align: right;\n",
       "    }\n",
       "\n",
       "    .dataframe thead th {\n",
       "        text-align: left;\n",
       "    }\n",
       "\n",
       "    .dataframe tbody tr th {\n",
       "        vertical-align: top;\n",
       "    }\n",
       "</style>\n",
       "<table border=\"1\" class=\"dataframe\">\n",
       "  <thead>\n",
       "    <tr style=\"text-align: right;\">\n",
       "      <th></th>\n",
       "      <th>sentence_id</th>\n",
       "      <th>tone_id</th>\n",
       "      <th>score</th>\n",
       "    </tr>\n",
       "  </thead>\n",
       "  <tbody>\n",
       "    <tr>\n",
       "      <th>0</th>\n",
       "      <td>0</td>\n",
       "      <td>neutral</td>\n",
       "      <td>1.000000</td>\n",
       "    </tr>\n",
       "    <tr>\n",
       "      <th>1</th>\n",
       "      <td>1</td>\n",
       "      <td>sadness</td>\n",
       "      <td>0.505160</td>\n",
       "    </tr>\n",
       "    <tr>\n",
       "      <th>2</th>\n",
       "      <td>2</td>\n",
       "      <td>joy</td>\n",
       "      <td>0.753173</td>\n",
       "    </tr>\n",
       "    <tr>\n",
       "      <th>3</th>\n",
       "      <td>2</td>\n",
       "      <td>tentative</td>\n",
       "      <td>0.946222</td>\n",
       "    </tr>\n",
       "    <tr>\n",
       "      <th>4</th>\n",
       "      <td>3</td>\n",
       "      <td>joy</td>\n",
       "      <td>0.572197</td>\n",
       "    </tr>\n",
       "    <tr>\n",
       "      <th>5</th>\n",
       "      <td>4</td>\n",
       "      <td>anger</td>\n",
       "      <td>0.595490</td>\n",
       "    </tr>\n",
       "    <tr>\n",
       "      <th>6</th>\n",
       "      <td>4</td>\n",
       "      <td>tentative</td>\n",
       "      <td>0.968123</td>\n",
       "    </tr>\n",
       "    <tr>\n",
       "      <th>7</th>\n",
       "      <td>5</td>\n",
       "      <td>sadness</td>\n",
       "      <td>0.566571</td>\n",
       "    </tr>\n",
       "    <tr>\n",
       "      <th>8</th>\n",
       "      <td>6</td>\n",
       "      <td>confident</td>\n",
       "      <td>0.866237</td>\n",
       "    </tr>\n",
       "    <tr>\n",
       "      <th>9</th>\n",
       "      <td>7</td>\n",
       "      <td>fear</td>\n",
       "      <td>0.557492</td>\n",
       "    </tr>\n",
       "    <tr>\n",
       "      <th>10</th>\n",
       "      <td>7</td>\n",
       "      <td>analytical</td>\n",
       "      <td>0.506763</td>\n",
       "    </tr>\n",
       "    <tr>\n",
       "      <th>11</th>\n",
       "      <td>8</td>\n",
       "      <td>sadness</td>\n",
       "      <td>0.505160</td>\n",
       "    </tr>\n",
       "    <tr>\n",
       "      <th>12</th>\n",
       "      <td>9</td>\n",
       "      <td>joy</td>\n",
       "      <td>0.753173</td>\n",
       "    </tr>\n",
       "    <tr>\n",
       "      <th>13</th>\n",
       "      <td>9</td>\n",
       "      <td>tentative</td>\n",
       "      <td>0.946222</td>\n",
       "    </tr>\n",
       "    <tr>\n",
       "      <th>14</th>\n",
       "      <td>10</td>\n",
       "      <td>joy</td>\n",
       "      <td>0.572197</td>\n",
       "    </tr>\n",
       "    <tr>\n",
       "      <th>15</th>\n",
       "      <td>11</td>\n",
       "      <td>anger</td>\n",
       "      <td>0.595490</td>\n",
       "    </tr>\n",
       "    <tr>\n",
       "      <th>16</th>\n",
       "      <td>11</td>\n",
       "      <td>tentative</td>\n",
       "      <td>0.968123</td>\n",
       "    </tr>\n",
       "    <tr>\n",
       "      <th>17</th>\n",
       "      <td>12</td>\n",
       "      <td>sadness</td>\n",
       "      <td>0.566571</td>\n",
       "    </tr>\n",
       "    <tr>\n",
       "      <th>18</th>\n",
       "      <td>13</td>\n",
       "      <td>confident</td>\n",
       "      <td>0.866237</td>\n",
       "    </tr>\n",
       "    <tr>\n",
       "      <th>19</th>\n",
       "      <td>14</td>\n",
       "      <td>analytical</td>\n",
       "      <td>0.801827</td>\n",
       "    </tr>\n",
       "  </tbody>\n",
       "</table>\n",
       "</div>"
      ],
      "text/plain": [
       "    sentence_id     tone_id     score\n",
       "0             0     neutral  1.000000\n",
       "1             1     sadness  0.505160\n",
       "2             2         joy  0.753173\n",
       "3             2   tentative  0.946222\n",
       "4             3         joy  0.572197\n",
       "5             4       anger  0.595490\n",
       "6             4   tentative  0.968123\n",
       "7             5     sadness  0.566571\n",
       "8             6   confident  0.866237\n",
       "9             7        fear  0.557492\n",
       "10            7  analytical  0.506763\n",
       "11            8     sadness  0.505160\n",
       "12            9         joy  0.753173\n",
       "13            9   tentative  0.946222\n",
       "14           10         joy  0.572197\n",
       "15           11       anger  0.595490\n",
       "16           11   tentative  0.968123\n",
       "17           12     sadness  0.566571\n",
       "18           13   confident  0.866237\n",
       "19           14  analytical  0.801827"
      ]
     },
     "execution_count": 25,
     "metadata": {},
     "output_type": "execute_result"
    }
   ],
   "source": [
    "df3"
   ]
  }
 ],
 "metadata": {
  "kernelspec": {
   "display_name": "Python 3",
   "language": "python",
   "name": "python3"
  },
  "language_info": {
   "codemirror_mode": {
    "name": "ipython",
    "version": 3
   },
   "file_extension": ".py",
   "mimetype": "text/x-python",
   "name": "python",
   "nbconvert_exporter": "python",
   "pygments_lexer": "ipython3",
   "version": "3.6.1"
  }
 },
 "nbformat": 4,
 "nbformat_minor": 2
}
